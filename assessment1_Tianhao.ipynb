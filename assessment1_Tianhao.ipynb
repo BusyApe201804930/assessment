{
  "cells": [
    {
      "cell_type": "markdown",
      "metadata": {
        "id": "view-in-github",
        "colab_type": "text"
      },
      "source": [
        "<a href=\"https://colab.research.google.com/github/BusyApe201804930/assessment/blob/main/assessment1_Tianhao.ipynb\" target=\"_parent\"><img src=\"https://colab.research.google.com/assets/colab-badge.svg\" alt=\"Open In Colab\"/></a>"
      ]
    },
    {
      "cell_type": "code",
      "execution_count": null,
      "id": "intellectual-oregon",
      "metadata": {
        "id": "intellectual-oregon"
      },
      "outputs": [],
      "source": [
        "# not sure if it is ok but using pytorch here instead of tensorflow and keras\n",
        "%matplotlib inline\n",
        "\n",
        "import numpy as np\n",
        "import pandas as pd \n",
        "import matplotlib.pyplot as plt\n",
        "import torch\n",
        "import torch.optim as optim"
      ]
    },
    {
      "cell_type": "code",
      "execution_count": null,
      "id": "harmful-newton",
      "metadata": {
        "colab": {
          "base_uri": "https://localhost:8080/",
          "height": 206
        },
        "id": "harmful-newton",
        "outputId": "e38c1d33-9c66-4413-d4bb-4ed98c7de28b"
      },
      "outputs": [
        {
          "output_type": "execute_result",
          "data": {
            "text/html": [
              "\n",
              "  <div id=\"df-385f9b16-2358-4659-8a7e-ba4ba15e9b14\">\n",
              "    <div class=\"colab-df-container\">\n",
              "      <div>\n",
              "<style scoped>\n",
              "    .dataframe tbody tr th:only-of-type {\n",
              "        vertical-align: middle;\n",
              "    }\n",
              "\n",
              "    .dataframe tbody tr th {\n",
              "        vertical-align: top;\n",
              "    }\n",
              "\n",
              "    .dataframe thead th {\n",
              "        text-align: right;\n",
              "    }\n",
              "</style>\n",
              "<table border=\"1\" class=\"dataframe\">\n",
              "  <thead>\n",
              "    <tr style=\"text-align: right;\">\n",
              "      <th></th>\n",
              "      <th>0</th>\n",
              "      <th>1</th>\n",
              "      <th>2</th>\n",
              "      <th>3</th>\n",
              "      <th>4</th>\n",
              "      <th>5</th>\n",
              "      <th>6</th>\n",
              "      <th>7</th>\n",
              "      <th>8</th>\n",
              "      <th>9</th>\n",
              "      <th>10</th>\n",
              "    </tr>\n",
              "  </thead>\n",
              "  <tbody>\n",
              "    <tr>\n",
              "      <th>0</th>\n",
              "      <td>0.443132</td>\n",
              "      <td>0.532405</td>\n",
              "      <td>0.437770</td>\n",
              "      <td>0.061966</td>\n",
              "      <td>0.783677</td>\n",
              "      <td>0.935789</td>\n",
              "      <td>0.909104</td>\n",
              "      <td>0.683616</td>\n",
              "      <td>0.895410</td>\n",
              "      <td>0.871122</td>\n",
              "      <td>0.733646</td>\n",
              "    </tr>\n",
              "    <tr>\n",
              "      <th>1</th>\n",
              "      <td>0.270151</td>\n",
              "      <td>0.563418</td>\n",
              "      <td>0.136042</td>\n",
              "      <td>0.164526</td>\n",
              "      <td>0.013159</td>\n",
              "      <td>0.731077</td>\n",
              "      <td>0.961079</td>\n",
              "      <td>0.202600</td>\n",
              "      <td>0.921334</td>\n",
              "      <td>0.731678</td>\n",
              "      <td>0.416784</td>\n",
              "    </tr>\n",
              "    <tr>\n",
              "      <th>2</th>\n",
              "      <td>0.571161</td>\n",
              "      <td>0.124119</td>\n",
              "      <td>0.826382</td>\n",
              "      <td>0.692914</td>\n",
              "      <td>0.817431</td>\n",
              "      <td>0.573339</td>\n",
              "      <td>0.248638</td>\n",
              "      <td>0.632073</td>\n",
              "      <td>0.606688</td>\n",
              "      <td>0.348984</td>\n",
              "      <td>0.590013</td>\n",
              "    </tr>\n",
              "    <tr>\n",
              "      <th>3</th>\n",
              "      <td>0.414595</td>\n",
              "      <td>0.541134</td>\n",
              "      <td>0.383968</td>\n",
              "      <td>0.696607</td>\n",
              "      <td>0.113355</td>\n",
              "      <td>0.591044</td>\n",
              "      <td>0.770690</td>\n",
              "      <td>0.016159</td>\n",
              "      <td>0.291561</td>\n",
              "      <td>0.666265</td>\n",
              "      <td>0.477864</td>\n",
              "    </tr>\n",
              "    <tr>\n",
              "      <th>4</th>\n",
              "      <td>0.069221</td>\n",
              "      <td>0.047482</td>\n",
              "      <td>0.269938</td>\n",
              "      <td>0.812681</td>\n",
              "      <td>0.533125</td>\n",
              "      <td>0.091919</td>\n",
              "      <td>0.581794</td>\n",
              "      <td>0.854649</td>\n",
              "      <td>0.298028</td>\n",
              "      <td>0.819031</td>\n",
              "      <td>0.415577</td>\n",
              "    </tr>\n",
              "  </tbody>\n",
              "</table>\n",
              "</div>\n",
              "      <button class=\"colab-df-convert\" onclick=\"convertToInteractive('df-385f9b16-2358-4659-8a7e-ba4ba15e9b14')\"\n",
              "              title=\"Convert this dataframe to an interactive table.\"\n",
              "              style=\"display:none;\">\n",
              "        \n",
              "  <svg xmlns=\"http://www.w3.org/2000/svg\" height=\"24px\"viewBox=\"0 0 24 24\"\n",
              "       width=\"24px\">\n",
              "    <path d=\"M0 0h24v24H0V0z\" fill=\"none\"/>\n",
              "    <path d=\"M18.56 5.44l.94 2.06.94-2.06 2.06-.94-2.06-.94-.94-2.06-.94 2.06-2.06.94zm-11 1L8.5 8.5l.94-2.06 2.06-.94-2.06-.94L8.5 2.5l-.94 2.06-2.06.94zm10 10l.94 2.06.94-2.06 2.06-.94-2.06-.94-.94-2.06-.94 2.06-2.06.94z\"/><path d=\"M17.41 7.96l-1.37-1.37c-.4-.4-.92-.59-1.43-.59-.52 0-1.04.2-1.43.59L10.3 9.45l-7.72 7.72c-.78.78-.78 2.05 0 2.83L4 21.41c.39.39.9.59 1.41.59.51 0 1.02-.2 1.41-.59l7.78-7.78 2.81-2.81c.8-.78.8-2.07 0-2.86zM5.41 20L4 18.59l7.72-7.72 1.47 1.35L5.41 20z\"/>\n",
              "  </svg>\n",
              "      </button>\n",
              "      \n",
              "  <style>\n",
              "    .colab-df-container {\n",
              "      display:flex;\n",
              "      flex-wrap:wrap;\n",
              "      gap: 12px;\n",
              "    }\n",
              "\n",
              "    .colab-df-convert {\n",
              "      background-color: #E8F0FE;\n",
              "      border: none;\n",
              "      border-radius: 50%;\n",
              "      cursor: pointer;\n",
              "      display: none;\n",
              "      fill: #1967D2;\n",
              "      height: 32px;\n",
              "      padding: 0 0 0 0;\n",
              "      width: 32px;\n",
              "    }\n",
              "\n",
              "    .colab-df-convert:hover {\n",
              "      background-color: #E2EBFA;\n",
              "      box-shadow: 0px 1px 2px rgba(60, 64, 67, 0.3), 0px 1px 3px 1px rgba(60, 64, 67, 0.15);\n",
              "      fill: #174EA6;\n",
              "    }\n",
              "\n",
              "    [theme=dark] .colab-df-convert {\n",
              "      background-color: #3B4455;\n",
              "      fill: #D2E3FC;\n",
              "    }\n",
              "\n",
              "    [theme=dark] .colab-df-convert:hover {\n",
              "      background-color: #434B5C;\n",
              "      box-shadow: 0px 1px 3px 1px rgba(0, 0, 0, 0.15);\n",
              "      filter: drop-shadow(0px 1px 2px rgba(0, 0, 0, 0.3));\n",
              "      fill: #FFFFFF;\n",
              "    }\n",
              "  </style>\n",
              "\n",
              "      <script>\n",
              "        const buttonEl =\n",
              "          document.querySelector('#df-385f9b16-2358-4659-8a7e-ba4ba15e9b14 button.colab-df-convert');\n",
              "        buttonEl.style.display =\n",
              "          google.colab.kernel.accessAllowed ? 'block' : 'none';\n",
              "\n",
              "        async function convertToInteractive(key) {\n",
              "          const element = document.querySelector('#df-385f9b16-2358-4659-8a7e-ba4ba15e9b14');\n",
              "          const dataTable =\n",
              "            await google.colab.kernel.invokeFunction('convertToInteractive',\n",
              "                                                     [key], {});\n",
              "          if (!dataTable) return;\n",
              "\n",
              "          const docLinkHtml = 'Like what you see? Visit the ' +\n",
              "            '<a target=\"_blank\" href=https://colab.research.google.com/notebooks/data_table.ipynb>data table notebook</a>'\n",
              "            + ' to learn more about interactive tables.';\n",
              "          element.innerHTML = '';\n",
              "          dataTable['output_type'] = 'display_data';\n",
              "          await google.colab.output.renderOutput(dataTable, element);\n",
              "          const docLink = document.createElement('div');\n",
              "          docLink.innerHTML = docLinkHtml;\n",
              "          element.appendChild(docLink);\n",
              "        }\n",
              "      </script>\n",
              "    </div>\n",
              "  </div>\n",
              "  "
            ],
            "text/plain": [
              "         0         1         2   ...        8         9         10\n",
              "0  0.443132  0.532405  0.437770  ...  0.895410  0.871122  0.733646\n",
              "1  0.270151  0.563418  0.136042  ...  0.921334  0.731678  0.416784\n",
              "2  0.571161  0.124119  0.826382  ...  0.606688  0.348984  0.590013\n",
              "3  0.414595  0.541134  0.383968  ...  0.291561  0.666265  0.477864\n",
              "4  0.069221  0.047482  0.269938  ...  0.298028  0.819031  0.415577\n",
              "\n",
              "[5 rows x 11 columns]"
            ]
          },
          "metadata": {},
          "execution_count": 5
        }
      ],
      "source": [
        "# Start of P1\n",
        "train= pd.read_csv('/content/train-1.csv',header=None)\n",
        "train.shape\n",
        "train.head()"
      ]
    },
    {
      "cell_type": "code",
      "execution_count": null,
      "id": "liked-prague",
      "metadata": {
        "colab": {
          "base_uri": "https://localhost:8080/",
          "height": 206
        },
        "id": "liked-prague",
        "outputId": "38169bce-f246-4cd0-fffd-bd9ba2dc02f5"
      },
      "outputs": [
        {
          "output_type": "execute_result",
          "data": {
            "text/html": [
              "\n",
              "  <div id=\"df-00469a72-849f-4a91-9170-2c2d8d19b88e\">\n",
              "    <div class=\"colab-df-container\">\n",
              "      <div>\n",
              "<style scoped>\n",
              "    .dataframe tbody tr th:only-of-type {\n",
              "        vertical-align: middle;\n",
              "    }\n",
              "\n",
              "    .dataframe tbody tr th {\n",
              "        vertical-align: top;\n",
              "    }\n",
              "\n",
              "    .dataframe thead th {\n",
              "        text-align: right;\n",
              "    }\n",
              "</style>\n",
              "<table border=\"1\" class=\"dataframe\">\n",
              "  <thead>\n",
              "    <tr style=\"text-align: right;\">\n",
              "      <th></th>\n",
              "      <th>0</th>\n",
              "      <th>1</th>\n",
              "      <th>2</th>\n",
              "      <th>3</th>\n",
              "      <th>4</th>\n",
              "      <th>5</th>\n",
              "      <th>6</th>\n",
              "      <th>7</th>\n",
              "      <th>8</th>\n",
              "      <th>9</th>\n",
              "      <th>10</th>\n",
              "    </tr>\n",
              "  </thead>\n",
              "  <tbody>\n",
              "    <tr>\n",
              "      <th>0</th>\n",
              "      <td>0.381483</td>\n",
              "      <td>0.259656</td>\n",
              "      <td>0.828097</td>\n",
              "      <td>0.785679</td>\n",
              "      <td>0.951713</td>\n",
              "      <td>0.602431</td>\n",
              "      <td>0.631316</td>\n",
              "      <td>0.139366</td>\n",
              "      <td>0.182238</td>\n",
              "      <td>0.149903</td>\n",
              "      <td>0.491957</td>\n",
              "    </tr>\n",
              "    <tr>\n",
              "      <th>1</th>\n",
              "      <td>0.165943</td>\n",
              "      <td>0.447260</td>\n",
              "      <td>0.727400</td>\n",
              "      <td>0.639058</td>\n",
              "      <td>0.790171</td>\n",
              "      <td>0.038858</td>\n",
              "      <td>0.202324</td>\n",
              "      <td>0.098871</td>\n",
              "      <td>0.971737</td>\n",
              "      <td>0.992815</td>\n",
              "      <td>0.543159</td>\n",
              "    </tr>\n",
              "    <tr>\n",
              "      <th>2</th>\n",
              "      <td>0.555724</td>\n",
              "      <td>0.814016</td>\n",
              "      <td>0.142540</td>\n",
              "      <td>0.520290</td>\n",
              "      <td>0.569297</td>\n",
              "      <td>0.243047</td>\n",
              "      <td>0.396575</td>\n",
              "      <td>0.537876</td>\n",
              "      <td>0.741946</td>\n",
              "      <td>0.482729</td>\n",
              "      <td>0.529083</td>\n",
              "    </tr>\n",
              "    <tr>\n",
              "      <th>3</th>\n",
              "      <td>0.157568</td>\n",
              "      <td>0.989660</td>\n",
              "      <td>0.109685</td>\n",
              "      <td>0.849540</td>\n",
              "      <td>0.995821</td>\n",
              "      <td>0.954934</td>\n",
              "      <td>0.437646</td>\n",
              "      <td>0.688811</td>\n",
              "      <td>0.174563</td>\n",
              "      <td>0.808960</td>\n",
              "      <td>0.748886</td>\n",
              "    </tr>\n",
              "    <tr>\n",
              "      <th>4</th>\n",
              "      <td>0.283251</td>\n",
              "      <td>0.948084</td>\n",
              "      <td>0.997192</td>\n",
              "      <td>0.500534</td>\n",
              "      <td>0.214394</td>\n",
              "      <td>0.726381</td>\n",
              "      <td>0.548864</td>\n",
              "      <td>0.306034</td>\n",
              "      <td>0.989905</td>\n",
              "      <td>0.403511</td>\n",
              "      <td>0.524699</td>\n",
              "    </tr>\n",
              "  </tbody>\n",
              "</table>\n",
              "</div>\n",
              "      <button class=\"colab-df-convert\" onclick=\"convertToInteractive('df-00469a72-849f-4a91-9170-2c2d8d19b88e')\"\n",
              "              title=\"Convert this dataframe to an interactive table.\"\n",
              "              style=\"display:none;\">\n",
              "        \n",
              "  <svg xmlns=\"http://www.w3.org/2000/svg\" height=\"24px\"viewBox=\"0 0 24 24\"\n",
              "       width=\"24px\">\n",
              "    <path d=\"M0 0h24v24H0V0z\" fill=\"none\"/>\n",
              "    <path d=\"M18.56 5.44l.94 2.06.94-2.06 2.06-.94-2.06-.94-.94-2.06-.94 2.06-2.06.94zm-11 1L8.5 8.5l.94-2.06 2.06-.94-2.06-.94L8.5 2.5l-.94 2.06-2.06.94zm10 10l.94 2.06.94-2.06 2.06-.94-2.06-.94-.94-2.06-.94 2.06-2.06.94z\"/><path d=\"M17.41 7.96l-1.37-1.37c-.4-.4-.92-.59-1.43-.59-.52 0-1.04.2-1.43.59L10.3 9.45l-7.72 7.72c-.78.78-.78 2.05 0 2.83L4 21.41c.39.39.9.59 1.41.59.51 0 1.02-.2 1.41-.59l7.78-7.78 2.81-2.81c.8-.78.8-2.07 0-2.86zM5.41 20L4 18.59l7.72-7.72 1.47 1.35L5.41 20z\"/>\n",
              "  </svg>\n",
              "      </button>\n",
              "      \n",
              "  <style>\n",
              "    .colab-df-container {\n",
              "      display:flex;\n",
              "      flex-wrap:wrap;\n",
              "      gap: 12px;\n",
              "    }\n",
              "\n",
              "    .colab-df-convert {\n",
              "      background-color: #E8F0FE;\n",
              "      border: none;\n",
              "      border-radius: 50%;\n",
              "      cursor: pointer;\n",
              "      display: none;\n",
              "      fill: #1967D2;\n",
              "      height: 32px;\n",
              "      padding: 0 0 0 0;\n",
              "      width: 32px;\n",
              "    }\n",
              "\n",
              "    .colab-df-convert:hover {\n",
              "      background-color: #E2EBFA;\n",
              "      box-shadow: 0px 1px 2px rgba(60, 64, 67, 0.3), 0px 1px 3px 1px rgba(60, 64, 67, 0.15);\n",
              "      fill: #174EA6;\n",
              "    }\n",
              "\n",
              "    [theme=dark] .colab-df-convert {\n",
              "      background-color: #3B4455;\n",
              "      fill: #D2E3FC;\n",
              "    }\n",
              "\n",
              "    [theme=dark] .colab-df-convert:hover {\n",
              "      background-color: #434B5C;\n",
              "      box-shadow: 0px 1px 3px 1px rgba(0, 0, 0, 0.15);\n",
              "      filter: drop-shadow(0px 1px 2px rgba(0, 0, 0, 0.3));\n",
              "      fill: #FFFFFF;\n",
              "    }\n",
              "  </style>\n",
              "\n",
              "      <script>\n",
              "        const buttonEl =\n",
              "          document.querySelector('#df-00469a72-849f-4a91-9170-2c2d8d19b88e button.colab-df-convert');\n",
              "        buttonEl.style.display =\n",
              "          google.colab.kernel.accessAllowed ? 'block' : 'none';\n",
              "\n",
              "        async function convertToInteractive(key) {\n",
              "          const element = document.querySelector('#df-00469a72-849f-4a91-9170-2c2d8d19b88e');\n",
              "          const dataTable =\n",
              "            await google.colab.kernel.invokeFunction('convertToInteractive',\n",
              "                                                     [key], {});\n",
              "          if (!dataTable) return;\n",
              "\n",
              "          const docLinkHtml = 'Like what you see? Visit the ' +\n",
              "            '<a target=\"_blank\" href=https://colab.research.google.com/notebooks/data_table.ipynb>data table notebook</a>'\n",
              "            + ' to learn more about interactive tables.';\n",
              "          element.innerHTML = '';\n",
              "          dataTable['output_type'] = 'display_data';\n",
              "          await google.colab.output.renderOutput(dataTable, element);\n",
              "          const docLink = document.createElement('div');\n",
              "          docLink.innerHTML = docLinkHtml;\n",
              "          element.appendChild(docLink);\n",
              "        }\n",
              "      </script>\n",
              "    </div>\n",
              "  </div>\n",
              "  "
            ],
            "text/plain": [
              "         0         1         2   ...        8         9         10\n",
              "0  0.381483  0.259656  0.828097  ...  0.182238  0.149903  0.491957\n",
              "1  0.165943  0.447260  0.727400  ...  0.971737  0.992815  0.543159\n",
              "2  0.555724  0.814016  0.142540  ...  0.741946  0.482729  0.529083\n",
              "3  0.157568  0.989660  0.109685  ...  0.174563  0.808960  0.748886\n",
              "4  0.283251  0.948084  0.997192  ...  0.989905  0.403511  0.524699\n",
              "\n",
              "[5 rows x 11 columns]"
            ]
          },
          "metadata": {},
          "execution_count": 8
        }
      ],
      "source": [
        "test= pd.read_csv('/content/test-1.csv',header=None)\n",
        "train.shape\n",
        "test.head()"
      ]
    },
    {
      "cell_type": "code",
      "execution_count": null,
      "id": "early-technique",
      "metadata": {
        "colab": {
          "base_uri": "https://localhost:8080/"
        },
        "id": "early-technique",
        "outputId": "65d05c72-ef5a-4832-fde9-83e4506fd9f8"
      },
      "outputs": [
        {
          "output_type": "execute_result",
          "data": {
            "text/plain": [
              "10000"
            ]
          },
          "metadata": {},
          "execution_count": 9
        }
      ],
      "source": [
        "length=int(len(train)*0.1)\n",
        "length"
      ]
    },
    {
      "cell_type": "code",
      "execution_count": null,
      "id": "stainless-seminar",
      "metadata": {
        "id": "stainless-seminar"
      },
      "outputs": [],
      "source": [
        "valid=train.iloc[:10000,:]"
      ]
    },
    {
      "cell_type": "code",
      "execution_count": null,
      "id": "western-roulette",
      "metadata": {
        "id": "western-roulette"
      },
      "outputs": [],
      "source": [
        "# setting the data set without the last column\n",
        "x_train=train.iloc[:,:-1].values\n",
        "y_train=train.iloc[:,-1].values\n",
        "x_valid=valid.iloc[:,:-1].values\n",
        "y_valid=valid.iloc[:,-1].values\n",
        "x_test=test.iloc[:,:-1].values\n",
        "y_test=test.iloc[:,-1].values"
      ]
    },
    {
      "cell_type": "code",
      "execution_count": null,
      "id": "liberal-third",
      "metadata": {
        "id": "liberal-third"
      },
      "outputs": [],
      "source": [
        "x_train = torch.tensor(x_train, dtype = float)\n",
        "y_train = torch.tensor(y_train, dtype = float)\n",
        "x_valid = torch.tensor(x_valid , dtype = torch.float)\n",
        "y_valid = torch.tensor(y_valid , dtype =torch.float)\n",
        "x_test = torch.tensor(x_test, dtype = torch.float)\n",
        "y_test = torch.tensor(y_test, dtype = torch.float)"
      ]
    },
    {
      "cell_type": "code",
      "execution_count": null,
      "id": "moral-bottom",
      "metadata": {
        "id": "moral-bottom"
      },
      "outputs": [],
      "source": [
        "# specify single layer, batch 128 and 100 nods in the NN\n",
        "# activation function using Relu here\n",
        "# also define else for 1.4 use (sigmoid activation)\n",
        "input_size =x_train.shape[1]\n",
        "hidden_size = 128\n",
        "output_size = 1\n",
        "batch_size = 128\n",
        "def my_model(lat_dim,input_size, output_size,activation='relu'):\n",
        "    if activation=='relu':\n",
        "        my_nn = torch.nn.Sequential(\n",
        "            torch.nn.Linear(input_size, 100),\n",
        "            torch.nn.ReLU(),\n",
        "            torch.nn.Linear(100, lat_dim),\n",
        "            torch.nn.Linear(lat_dim, 100),\n",
        "            torch.nn.ReLU(),\n",
        "            torch.nn.Linear(100, output_size),\n",
        "        )\n",
        "    else:\n",
        "        my_nn = torch.nn.Sequential(\n",
        "            torch.nn.Linear(input_size, 100),\n",
        "            torch.nn.Sigmoid(),\n",
        "            torch.nn.Linear(100, lat_dim),\n",
        "            torch.nn.Linear(lat_dim, 100),\n",
        "            torch.nn.Sigmoid(),\n",
        "            torch.nn.Linear(100, output_size),\n",
        "        )\n",
        "    return my_nn\n"
      ]
    },
    {
      "cell_type": "code",
      "execution_count": null,
      "id": "serious-annotation",
      "metadata": {
        "id": "serious-annotation"
      },
      "outputs": [],
      "source": [
        "# MSE loss with optimization SGD \n",
        "# test and validation loss here\n",
        "lat_dim=5\n",
        "def train(lat_dim,input_size, output_size,lr,epoch,batch_size,activation='relu',verbose=True):\n",
        "    my_nn=my_model(lat_dim,input_size, output_size,activation='relu')\n",
        "    cost = torch.nn.MSELoss(reduction='mean')\n",
        "    optimizer = torch.optim.SGD(my_nn.parameters(), lr = lr)\n",
        "    losses_valid = []\n",
        "    losses_test = []\n",
        "  \n",
        "\n",
        "    for i in range(epoch):\n",
        "        batch_loss_valid = []\n",
        "        batch_loss_test = []\n",
        "        for start in range(0, len(x_train), batch_size):\n",
        "            end = start + batch_size if start + batch_size < len(x_train) else len(x_train)\n",
        "            xx = torch.tensor(x_train[start:end], dtype = torch.float, requires_grad = True)\n",
        "            yy = torch.tensor(y_train[start:end], dtype = torch.float, requires_grad = True)\n",
        "            prediction = my_nn(xx)\n",
        "            loss = cost(prediction, yy)\n",
        "            optimizer.zero_grad()\n",
        "            loss.backward(retain_graph=True)\n",
        "            optimizer.step()\n",
        "            \n",
        "\n",
        "        prediction_valid = my_nn(x_valid)\n",
        "        l_valid=cost(prediction_valid, y_valid)\n",
        "\n",
        "        prediction_test = my_nn(x_train)\n",
        "        l_train=cost(prediction_test, y_test)\n",
        "\n",
        "\n",
        "        losses_valid.append(l_valid.data.numpy())\n",
        "        losses_test.append(l_test.data.numpy())\n",
        "        if verbose==True:\n",
        "            print('valid loss for epoch '+str(i)+': '+str(l_valid.data.numpy()))\n",
        "            print('test loss for epoch '+str(i)+': '+str(l_test.data.numpy()))\n",
        "    return my_nn\n"
      ]
    },
    {
      "cell_type": "code",
      "execution_count": null,
      "id": "comparable-cylinder",
      "metadata": {
        "id": "comparable-cylinder"
      },
      "outputs": [],
      "source": [
        "# P1.2 \n",
        "# lat_dim = 5, epouch = 10\n",
        "input_size = x_train.shape[1]\n",
        "lat_dim = 5\n",
        "output_size = 1\n",
        "batch_size = 128\n",
        "lr=1e-4\n",
        "epoch=10\n",
        "my_nn=train(lat_dim,input_size, output_size,lr,epoch,batch_size,activation='relu')"
      ]
    },
    {
      "cell_type": "code",
      "execution_count": null,
      "id": "marked-finding",
      "metadata": {
        "id": "marked-finding"
      },
      "outputs": [],
      "source": [
        "# P1.2\n",
        "# lat_dim = 100, epoch = 10\n",
        "input_size =x_train.shape[1]\n",
        "lat_dim = 100\n",
        "output_size = 1\n",
        "batch_size = 128\n",
        "lr=1e-4\n",
        "epoch=10\n",
        "my_nn=train(lat_dim,input_size, output_size,lr,epoch,batch_size,activation='relu')"
      ]
    },
    {
      "cell_type": "code",
      "source": [
        "# As can be seen from the results, \n",
        "# when lat_dim increases to 100, both valid loss and test loss increase"
      ],
      "metadata": {
        "id": "uNxekXAVK3hh"
      },
      "id": "uNxekXAVK3hh",
      "execution_count": null,
      "outputs": []
    },
    {
      "cell_type": "code",
      "execution_count": null,
      "id": "gorgeous-theorem",
      "metadata": {
        "scrolled": true,
        "id": "gorgeous-theorem"
      },
      "outputs": [],
      "source": [
        "# P1.3\n",
        "# lat_dim = 100, epoch = 10\n",
        "# lr with 0.01, 0.1 and 0.5\n",
        "input_size =x_train.shape[1]\n",
        "lat_dim = 100\n",
        "output_size = 1\n",
        "batch_size = 128\n",
        "lr=[0.01,0.1,0.5]\n",
        "epoch=10\n",
        "mse_test=[]\n",
        "for i in lr:\n",
        "    my_nn=train(lat_dim,input_size, output_size,i,epoch,batch_size,activation='relu')\n",
        "    prediction_test = my_nn(x_test)\n",
        "    m=np.mean((prediction_test.data.numpy()-y_test.data.numpy())**2)\n",
        "    mse_test.append(m)\n",
        "mse_test\n"
      ]
    },
    {
      "cell_type": "code",
      "source": [
        "# loss should decrease as lr increases"
      ],
      "metadata": {
        "id": "Bl8qEXIKLkZu"
      },
      "id": "Bl8qEXIKLkZu",
      "execution_count": null,
      "outputs": []
    },
    {
      "cell_type": "code",
      "execution_count": null,
      "id": "portable-fellow",
      "metadata": {
        "scrolled": true,
        "id": "portable-fellow"
      },
      "outputs": [],
      "source": [
        "# P1.4\n",
        "# lat_dim = 100, epoch = 50\n",
        "input_size =x_train.shape[1]\n",
        "lat_dim = 100\n",
        "output_size = 1\n",
        "batch_size = 128\n",
        "lr=1e-4\n",
        "epoch=50\n",
        "my_nn=train(lat_dim,input_size, output_size,lr,epoch,batch_size,activation='relu')"
      ]
    },
    {
      "cell_type": "code",
      "execution_count": null,
      "id": "architectural-congo",
      "metadata": {
        "id": "architectural-congo"
      },
      "outputs": [],
      "source": [
        "# for sigmoid\n",
        "input_size =x_train.shape[1]\n",
        "lat_dim = 100\n",
        "output_size = 1\n",
        "batch_size = 128\n",
        "lr=1e-4\n",
        "epoch=50\n",
        "my_nn=train(lat_dim,input_size, output_size,lr,epoch,batch_size,activation='sigmoid')"
      ]
    },
    {
      "cell_type": "code",
      "source": [
        "# loss is better for relu, sigmoid performs worse in this case"
      ],
      "metadata": {
        "id": "-7dNEsM5L320"
      },
      "id": "-7dNEsM5L320",
      "execution_count": null,
      "outputs": []
    },
    {
      "cell_type": "code",
      "execution_count": null,
      "id": "empirical-renaissance",
      "metadata": {
        "id": "empirical-renaissance"
      },
      "outputs": [],
      "source": [
        "list(range(1,10))"
      ]
    },
    {
      "cell_type": "code",
      "execution_count": null,
      "id": "mexican-fairy",
      "metadata": {
        "id": "mexican-fairy"
      },
      "outputs": [],
      "source": [
        "# P1.5\n",
        "# Change lat_dim size with different lr, with epoch = 5, batch size = 128\n",
        "lat_dim=list(range(1,10))+list(range(10,110,10))\n",
        "output_size = 1\n",
        "batch_size = 128\n",
        "lr=[0.01,0.02,0.03,0.04,0.1]\n",
        "epoch=5\n",
        "mse_total=[]\n",
        "for j in lat_dim:\n",
        "    mse_valid=[]\n",
        "    model=[]\n",
        "    mse_test=[]\n",
        "    for i in lr:\n",
        "        my_nn=train(j,input_size, output_size,i,epoch,batch_size,activation='relu',verbose=False)\n",
        "        prediction_valid = my_nn(x_valid)\n",
        "        m=np.mean((prediction_valid.data.numpy()-y_valid.data.numpy())**2)\n",
        "        mse_valid.append(m)\n",
        "        prediction_test = my_nn(x_test)\n",
        "        m=np.mean((prediction_test.data.numpy()-y_test.data.numpy())**2)\n",
        "        mse_test.append(m)\n",
        "        model.append(my_nn)\n",
        "    mse_total.append(np.mean(mse_test))\n",
        "    best_model=model[mse_valid.index(max(mse_valid))]\n",
        "    prediction_test =best_model(x_test)\n",
        "    m=np.mean((prediction_test.data.numpy()-y_test.data.numpy())**2)\n",
        "    print(str(j)+': '+str(m))"
      ]
    },
    {
      "cell_type": "code",
      "execution_count": null,
      "id": "marine-american",
      "metadata": {
        "id": "marine-american"
      },
      "outputs": [],
      "source": [
        "# plotting lat_dim against MSE here\n",
        "# as lat_dim increases a little bit, mse decreases dramatically\n",
        "# however as lat_dim grows, no big effect on mse, and when it is very large, mse tends to increase\n",
        "plt.plot(lat_dim,mse_total)\n",
        "plt.xlabel('lat_dim')\n",
        "plt.ylabel('mse')"
      ]
    },
    {
      "cell_type": "code",
      "execution_count": null,
      "id": "expired-basket",
      "metadata": {
        "id": "expired-basket"
      },
      "outputs": [],
      "source": [
        "# Start of P2\n",
        "x_train= pd.read_csv('/content/xtrain-2.csv').drop('Unnamed: 0',axis=1)\n",
        "y_train= pd.read_csv('/content/ytrain-2.csv').drop('Unnamed: 0',axis=1)\n",
        "x_test= pd.read_csv('/content/xtest-2.csv').drop('Unnamed: 0',axis=1)\n",
        "y_test= pd.read_csv('/content/ytest-2.csv').drop('Unnamed: 0',axis=1)"
      ]
    },
    {
      "cell_type": "code",
      "execution_count": null,
      "id": "standing-going",
      "metadata": {
        "id": "standing-going"
      },
      "outputs": [],
      "source": [
        "y_train"
      ]
    },
    {
      "cell_type": "code",
      "execution_count": null,
      "id": "ranking-louis",
      "metadata": {
        "id": "ranking-louis"
      },
      "outputs": [],
      "source": [
        "length=int(len(x_train)*0.1)\n",
        "x_valid=x_train.iloc[:10000,:]\n",
        "y_valid=y_train.iloc[:10000,:]"
      ]
    },
    {
      "cell_type": "code",
      "execution_count": null,
      "id": "precise-disabled",
      "metadata": {
        "id": "precise-disabled"
      },
      "outputs": [],
      "source": [
        "x_train=x_train.values\n",
        "y_train=y_train.values\n",
        "x_valid=x_valid.values\n",
        "y_valid=y_valid.values\n",
        "x_test=x_test.values\n",
        "y_test=y_test.values"
      ]
    },
    {
      "cell_type": "code",
      "execution_count": null,
      "id": "serious-funds",
      "metadata": {
        "id": "serious-funds"
      },
      "outputs": [],
      "source": [
        "x_train = torch.tensor(x_train, dtype = float)\n",
        "y_train = torch.tensor(y_train, dtype = float)\n",
        "x_valid = torch.tensor(x_valid , dtype = torch.float)\n",
        "y_valid = torch.tensor(y_valid , dtype =torch.float)\n",
        "x_test = torch.tensor(x_test, dtype = torch.float)\n",
        "y_test = torch.tensor(y_test, dtype = torch.float)"
      ]
    },
    {
      "cell_type": "code",
      "execution_count": null,
      "id": "mounted-alliance",
      "metadata": {
        "id": "mounted-alliance"
      },
      "outputs": [],
      "source": [
        "# not very clear about defining the model, not working here\n",
        "# ??\n",
        "input_size =x_train.shape[1]\n",
        "output_size = 5\n",
        "batch_size = 300\n",
        "class my_model(torch.nn.Module):\n",
        "    def __init__(self,input_size, output_size,l,w):\n",
        "\n",
        "       \n",
        "\n",
        "        self.linear_layers.append(torch.nn.ReLU())\n",
        "#??\n",
        "            \n",
        "\n",
        "    \n",
        "    def forward(self, x):\n",
        "       \n",
        "      \n",
        "        return x\n",
        "\n"
      ]
    },
    {
      "cell_type": "code",
      "source": [
        ""
      ],
      "metadata": {
        "id": "MSxN9dQ5VjH7"
      },
      "id": "MSxN9dQ5VjH7",
      "execution_count": null,
      "outputs": []
    },
    {
      "cell_type": "code",
      "execution_count": null,
      "id": "dated-shopping",
      "metadata": {
        "id": "dated-shopping"
      },
      "outputs": [],
      "source": [
        "# should be same as before but with Adam optimizer, not sure\n",
        "def train(input_size, output_size,l,w,lr,epoch,batch_size,verbose=True):\n",
        "    my_nn=my_model(input_size, output_size,l,w)\n",
        "    cost = torch.nn.MSELoss(reduction='mean')\n",
        "    optimizer = torch.optim.Adam(my_nn.parameters(), lr = lr,eps=1e-3)\n",
        "\n",
        "    losses_valid = []\n",
        "    losses_test = []\n",
        "\n",
        "    for i in range(epoch):\n",
        "        batch_loss_valid = []\n",
        "        batch_loss_test = []\n",
        "\n",
        "        for start in range(0, len(x_train), batch_size):\n",
        "            end = start + batch_size if start + batch_size < len(x_train) else len(x_train)\n",
        "            xx = torch.tensor(x_train[start:end], dtype = torch.float, requires_grad = True)\n",
        "            yy = torch.tensor(y_train[start:end], dtype = torch.float, requires_grad = True)\n",
        "            prediction = my_nn(xx)\n",
        "            loss = cost(prediction, yy)\n",
        "            optimizer.zero_grad()\n",
        "            loss.backward(retain_graph=True)\n",
        "            optimizer.step()\n",
        "\n",
        "        prediction_valid = my_nn(x_valid)\n",
        "        l_valid=cost(prediction_valid, y_valid)\n",
        "\n",
        "\n",
        "        prediction_test = my_nn(x_test)\n",
        "        l_test=cost(prediction_test, y_test)\n",
        "\n",
        "       \n",
        "        losses_valid.append(l_valid.data.numpy())\n",
        "        losses_test.append(l_test.data.numpy())\n",
        "        if verbose==True:\n",
        "            print('valid loss for epoch '+str(i)+': '+str(l_valid.data.numpy()))\n",
        "            print('test loss for epoch '+str(i)+': '+str(l_test.data.numpy()))\n",
        "    return my_nn\n",
        "\n",
        "# following code for in different conditions should be similar, no result"
      ]
    },
    {
      "cell_type": "code",
      "execution_count": null,
      "id": "variable-robert",
      "metadata": {
        "id": "variable-robert"
      },
      "outputs": [],
      "source": [
        "# 2 5\n",
        "input_size =x_train.shape[1]\n",
        "output_size = 5\n",
        "batch_size = 300\n",
        "lr=1e-4\n",
        "l=2\n",
        "w=5\n",
        "epoch=5\n",
        "my_nn=train(input_size, output_size,l,w,lr,epoch,batch_size)"
      ]
    },
    {
      "cell_type": "code",
      "execution_count": null,
      "id": "changing-excitement",
      "metadata": {
        "id": "changing-excitement"
      },
      "outputs": [],
      "source": [
        "# 2 10\n",
        "input_size =x_train.shape[1]\n",
        "output_size = 5\n",
        "batch_size = 300\n",
        "lr=1e-4\n",
        "l=2\n",
        "w=10\n",
        "epoch=5\n",
        "my_nn=train(input_size, output_size,l,w,lr,epoch,batch_size)"
      ]
    },
    {
      "cell_type": "code",
      "execution_count": null,
      "id": "billion-scholarship",
      "metadata": {
        "id": "billion-scholarship"
      },
      "outputs": [],
      "source": [
        "# 2 100\n",
        "input_size =x_train.shape[1]\n",
        "output_size = 5\n",
        "batch_size = 300\n",
        "lr=1e-4\n",
        "l=2\n",
        "w=100\n",
        "epoch=5\n",
        "my_nn=train(input_size, output_size,l,w,lr,epoch,batch_size)"
      ]
    },
    {
      "cell_type": "code",
      "execution_count": null,
      "id": "creative-butler",
      "metadata": {
        "id": "creative-butler"
      },
      "outputs": [],
      "source": [
        "# 2 200\n",
        "input_size =x_train.shape[1]\n",
        "output_size = 5\n",
        "batch_size = 300\n",
        "lr=1e-4\n",
        "l=2\n",
        "w=200\n",
        "epoch=5\n",
        "my_nn=train(input_size, output_size,l,w,lr,epoch,batch_size)"
      ]
    },
    {
      "cell_type": "code",
      "execution_count": null,
      "id": "coordinate-timothy",
      "metadata": {
        "id": "coordinate-timothy"
      },
      "outputs": [],
      "source": [
        "# 3 5\n",
        "input_size =x_train.shape[1]\n",
        "output_size = 5\n",
        "batch_size = 300\n",
        "lr=1e-4\n",
        "l=3\n",
        "w=5\n",
        "epoch=5\n",
        "my_nn=train(input_size, output_size,l,w,lr,epoch,batch_size)"
      ]
    },
    {
      "cell_type": "code",
      "execution_count": null,
      "id": "divided-anthony",
      "metadata": {
        "id": "divided-anthony"
      },
      "outputs": [],
      "source": [
        "# 3 10\n",
        "input_size =x_train.shape[1]\n",
        "output_size = 5\n",
        "batch_size = 300\n",
        "lr=1e-4\n",
        "l=3\n",
        "w=10\n",
        "epoch=5\n",
        "my_nn=train(input_size, output_size,l,w,lr,epoch,batch_size)"
      ]
    },
    {
      "cell_type": "code",
      "execution_count": null,
      "id": "protecting-audience",
      "metadata": {
        "id": "protecting-audience"
      },
      "outputs": [],
      "source": [
        "# 3 100\n",
        "input_size =x_train.shape[1]\n",
        "output_size = 5\n",
        "batch_size = 300\n",
        "lr=1e-4\n",
        "l=3\n",
        "w=100\n",
        "epoch=5\n",
        "my_nn=train(input_size, output_size,l,w,lr,epoch,batch_size)"
      ]
    },
    {
      "cell_type": "code",
      "execution_count": null,
      "id": "double-system",
      "metadata": {
        "id": "double-system"
      },
      "outputs": [],
      "source": [
        "# 3 200\n",
        "input_size =x_train.shape[1]\n",
        "output_size = 5\n",
        "batch_size = 300\n",
        "lr=1e-4\n",
        "l=3\n",
        "w=200\n",
        "epoch=5\n",
        "my_nn=train(input_size, output_size,l,w,lr,epoch,batch_size)"
      ]
    },
    {
      "cell_type": "code",
      "execution_count": null,
      "id": "dangerous-yield",
      "metadata": {
        "id": "dangerous-yield"
      },
      "outputs": [],
      "source": [
        "# Didn't get the result but the intuition may be: as l and w increase, the loss would decrease"
      ]
    }
  ],
  "metadata": {
    "kernelspec": {
      "display_name": "Python 3",
      "language": "python",
      "name": "python3"
    },
    "language_info": {
      "codemirror_mode": {
        "name": "ipython",
        "version": 3
      },
      "file_extension": ".py",
      "mimetype": "text/x-python",
      "name": "python",
      "nbconvert_exporter": "python",
      "pygments_lexer": "ipython3",
      "version": "3.8.7"
    },
    "colab": {
      "name": "assessment1_Tianhao.ipynb",
      "provenance": [],
      "collapsed_sections": [],
      "include_colab_link": true
    }
  },
  "nbformat": 4,
  "nbformat_minor": 5
}